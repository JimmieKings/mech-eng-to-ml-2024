{
 "cells": [
  {
   "cell_type": "markdown",
   "id": "c81bbda8-2489-4346-9675-8282a9685fc5",
   "metadata": {},
   "source": [
    "# problem statement\n",
    "The goal of this assignment is to practice gathering and handling data through the use of public APIs, specifically focusing on NASA’s public APIs. As part of this exercise, I will be required to interact with NASA’s API portal to access and retrieve data from the Astronomy Picture of the Day (APOD) and NeoWs (Near Earth Object Web Service) endpoints. This involves generating an API key for authentication, making API requests to retrieve data, processing and cleaning the data to produce a well-structured DataFrame, and finally exporting the data into a CSV file for further use.\n",
    "\n",
    "# Objective:\n",
    "The primary objective of this exercise is to develop proficiency in consuming RESTful APIs for data collection. I will:\n",
    "\n",
    "1. Learn to authenticate and request data from public APIs using an API key.\n",
    "2. Practice retrieving and displaying multimedia content from a web API.\n",
    "3. Process and structure data by extracting specific details from JSON responses.\n",
    "4. Clean the data and format it into a structured DataFrame for analysis.\n",
    "5. Export the cleaned data into a CSV file, which can be easily shared and analyzed further.\n"
   ]
  },
  {
   "cell_type": "code",
   "execution_count": 5,
   "id": "14f50dd0-e54c-4cc9-8447-a533ee0159be",
   "metadata": {},
   "outputs": [],
   "source": [
    "# key libs\n",
    "import pandas as pd\n",
    "import requests"
   ]
  },
  {
   "cell_type": "code",
   "execution_count": 6,
   "id": "9e661e6e-e593-4f8f-9dae-1201b26f88be",
   "metadata": {},
   "outputs": [],
   "source": [
    "# storing my API key\n",
    "api_key = 'T0N63fkzWhbJdQAkUDgNHZIP32QxOSFfxJEqlj5f'"
   ]
  },
  {
   "cell_type": "code",
   "execution_count": 7,
   "id": "f02d9831-9814-4bc2-bd48-7af0f1abebc5",
   "metadata": {},
   "outputs": [
    {
     "name": "stdout",
     "output_type": "stream",
     "text": [
      "Title: Comet Tsuchinshan-ATLAS Over the Lincoln Memorial\n",
      "Date: 2024-10-14\n",
      "Description: Go outside at sunset tonight and see a comet!  C/2023 A3 (Tsuchinshan–ATLAS) has become visible in the early evening sky in northern locations to the unaided eye. To see the comet, look west through a sky with a low horizon. If the sky is clear and dark enough, you will not even need binoculars -- the faint tail of the comet should be visible just above the horizon for about an hour.  Pictured, Comet Tsuchinshan-ATLAS was captured two nights ago over the Lincoln Memorial monument in Washington, DC, USA.  With each passing day at sunset, the comet and its changing tail should be higher and higher in the sky, although exactly how bright and how long its tails will be can only be guessed.   Growing Gallery: Comet Tsuchinsan-ATLAS in 2024\n",
      "Image URL: https://apod.nasa.gov/apod/image/2410/CometA3Dc_Gilmore_1080.jpg\n"
     ]
    }
   ],
   "source": [
    "# Sending a Request to the APOD API to Retrieve the data and display the image\n",
    "\n",
    "# APOD endpoint\n",
    "apod_url = f'https://api.nasa.gov/planetary/apod?api_key={api_key}'\n",
    "\n",
    "# Fetching data from the API\n",
    "response = requests.get(apod_url)\n",
    "apod_data = response.json()\n",
    "\n",
    "# Displaying the image and its other information\n",
    "print(f\"Title: {apod_data['title']}\")\n",
    "print(f\"Date: {apod_data['date']}\")\n",
    "print(f\"Description: {apod_data['explanation']}\")\n",
    "print(f\"Image URL: {apod_data['url']}\")"
   ]
  },
  {
   "cell_type": "code",
   "execution_count": 8,
   "id": "cf634542-01a3-4691-9968-3997e74ac468",
   "metadata": {},
   "outputs": [
    {
     "data": {
      "text/html": [
       "<img src=\"https://apod.nasa.gov/apod/image/2410/CometA3Dc_Gilmore_1080.jpg\"/>"
      ],
      "text/plain": [
       "<IPython.core.display.Image object>"
      ]
     },
     "metadata": {},
     "output_type": "display_data"
    }
   ],
   "source": [
    "# displaying image in the notebook\n",
    "from IPython.display import Image, display\n",
    "display(Image(url=apod_data['url']))"
   ]
  },
  {
   "cell_type": "markdown",
   "id": "6a3e3e39-20e6-4a32-9ff4-94f63f0f07be",
   "metadata": {},
   "source": [
    "Exploring the NeoWs API for Asteroid Data"
   ]
  },
  {
   "cell_type": "code",
   "execution_count": 9,
   "id": "d943be7d-ab32-4073-8402-1f5f58813424",
   "metadata": {},
   "outputs": [],
   "source": [
    " #Sending a Request to the NeoWs API to retrive the data and store it in a pandas df\n",
    "\n",
    "# Setting the date range for the asteroid data\n",
    "start_date = '2022-01-01'\n",
    "end_date = '2022-01-07'\n",
    "neows_url = f'https://api.nasa.gov/neo/rest/v1/feed?start_date={start_date}&end_date={end_date}&api_key={api_key}'\n",
    "\n",
    "# Fetching data from the API\n",
    "response = requests.get(neows_url)\n",
    "neows_data = response.json()"
   ]
  },
  {
   "cell_type": "markdown",
   "id": "aa93b8c1-bb82-4d23-a3e9-e861871dd9d6",
   "metadata": {},
   "source": [
    "Processing the Asteroid Data to Store it in a df"
   ]
  },
  {
   "cell_type": "code",
   "execution_count": 10,
   "id": "405ddead-e06b-4109-9b95-7f493a1b05a6",
   "metadata": {},
   "outputs": [],
   "source": [
    "# Extracting the relevant data:\n",
    "\n",
    "# Extract the asteroid details\n",
    "asteroid_data = []\n",
    "for date, asteroids in neows_data['near_earth_objects'].items():\n",
    "    for asteroid in asteroids:\n",
    "        asteroid_data.append({\n",
    "            'Asteroid ID': asteroid['id'],\n",
    "            'Asteroid Name': asteroid['name'],\n",
    "            'Min Estimated Diameter (km)': asteroid['estimated_diameter']['kilometers']['estimated_diameter_min'],\n",
    "            'Absolute Magnitude': asteroid['absolute_magnitude_h'],\n",
    "            'Relative Velocity (km/s)': asteroid['close_approach_data'][0]['relative_velocity']['kilometers_per_second']\n",
    "        })"
   ]
  },
  {
   "cell_type": "code",
   "execution_count": 12,
   "id": "78cd7f36-5d48-4289-a270-a8282b788a09",
   "metadata": {},
   "outputs": [
    {
     "data": {
      "text/html": [
       "<div>\n",
       "<style scoped>\n",
       "    .dataframe tbody tr th:only-of-type {\n",
       "        vertical-align: middle;\n",
       "    }\n",
       "\n",
       "    .dataframe tbody tr th {\n",
       "        vertical-align: top;\n",
       "    }\n",
       "\n",
       "    .dataframe thead th {\n",
       "        text-align: right;\n",
       "    }\n",
       "</style>\n",
       "<table border=\"1\" class=\"dataframe\">\n",
       "  <thead>\n",
       "    <tr style=\"text-align: right;\">\n",
       "      <th></th>\n",
       "      <th>Asteroid ID</th>\n",
       "      <th>Asteroid Name</th>\n",
       "      <th>Min Estimated Diameter (km)</th>\n",
       "      <th>Absolute Magnitude</th>\n",
       "      <th>Relative Velocity (km/s)</th>\n",
       "    </tr>\n",
       "  </thead>\n",
       "  <tbody>\n",
       "    <tr>\n",
       "      <th>0</th>\n",
       "      <td>2216523</td>\n",
       "      <td>216523 (2001 HY7)</td>\n",
       "      <td>0.192555</td>\n",
       "      <td>20.70</td>\n",
       "      <td>13.0121883425</td>\n",
       "    </tr>\n",
       "    <tr>\n",
       "      <th>1</th>\n",
       "      <td>2494697</td>\n",
       "      <td>494697 (2004 SW55)</td>\n",
       "      <td>0.186447</td>\n",
       "      <td>20.77</td>\n",
       "      <td>10.0478001196</td>\n",
       "    </tr>\n",
       "    <tr>\n",
       "      <th>2</th>\n",
       "      <td>2496860</td>\n",
       "      <td>496860 (1999 XL136)</td>\n",
       "      <td>0.309425</td>\n",
       "      <td>19.67</td>\n",
       "      <td>16.7624360583</td>\n",
       "    </tr>\n",
       "    <tr>\n",
       "      <th>3</th>\n",
       "      <td>3311963</td>\n",
       "      <td>(2006 AL4)</td>\n",
       "      <td>0.027578</td>\n",
       "      <td>24.92</td>\n",
       "      <td>9.4579600698</td>\n",
       "    </tr>\n",
       "    <tr>\n",
       "      <th>4</th>\n",
       "      <td>3401388</td>\n",
       "      <td>(2008 CO)</td>\n",
       "      <td>0.080270</td>\n",
       "      <td>22.60</td>\n",
       "      <td>4.4645655825</td>\n",
       "    </tr>\n",
       "  </tbody>\n",
       "</table>\n",
       "</div>"
      ],
      "text/plain": [
       "  Asteroid ID        Asteroid Name  Min Estimated Diameter (km)  \\\n",
       "0     2216523    216523 (2001 HY7)                     0.192555   \n",
       "1     2494697   494697 (2004 SW55)                     0.186447   \n",
       "2     2496860  496860 (1999 XL136)                     0.309425   \n",
       "3     3311963           (2006 AL4)                     0.027578   \n",
       "4     3401388            (2008 CO)                     0.080270   \n",
       "\n",
       "   Absolute Magnitude Relative Velocity (km/s)  \n",
       "0               20.70            13.0121883425  \n",
       "1               20.77            10.0478001196  \n",
       "2               19.67            16.7624360583  \n",
       "3               24.92             9.4579600698  \n",
       "4               22.60             4.4645655825  "
      ]
     },
     "execution_count": 12,
     "metadata": {},
     "output_type": "execute_result"
    }
   ],
   "source": [
    "# converting the data to a df and showing first few rows\n",
    "df_asteroids = pd.DataFrame(asteroid_data)\n",
    "df_asteroids.head()"
   ]
  },
  {
   "cell_type": "code",
   "execution_count": 15,
   "id": "94e4bafc-8406-41eb-896c-199f58db7feb",
   "metadata": {},
   "outputs": [
    {
     "name": "stdout",
     "output_type": "stream",
     "text": [
      "Data exported to 'asteroids.csv'\n"
     ]
    }
   ],
   "source": [
    "# Exporting the df to a CSV file\n",
    "df_asteroids.to_csv('asteroid_data.csv', index=False)\n",
    "print(\"Data exported to 'asteroids.csv'\")"
   ]
  },
  {
   "cell_type": "code",
   "execution_count": null,
   "id": "48b43802-b8dc-4b1d-9577-2c1cdd13e6f0",
   "metadata": {},
   "outputs": [],
   "source": []
  }
 ],
 "metadata": {
  "kernelspec": {
   "display_name": "Python 3 (ipykernel)",
   "language": "python",
   "name": "python3"
  },
  "language_info": {
   "codemirror_mode": {
    "name": "ipython",
    "version": 3
   },
   "file_extension": ".py",
   "mimetype": "text/x-python",
   "name": "python",
   "nbconvert_exporter": "python",
   "pygments_lexer": "ipython3",
   "version": "3.12.3"
  }
 },
 "nbformat": 4,
 "nbformat_minor": 5
}
