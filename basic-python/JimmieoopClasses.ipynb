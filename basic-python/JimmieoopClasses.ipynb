{
  "nbformat": 4,
  "nbformat_minor": 0,
  "metadata": {
    "colab": {
      "provenance": []
    },
    "kernelspec": {
      "name": "python3",
      "display_name": "Python 3"
    },
    "language_info": {
      "name": "python"
    }
  },
  "cells": [
    {
      "cell_type": "markdown",
      "source": [
        "Create a class Person, subclasses student and lecturer with all the attributes and methods you can think of for all i.e base class and child class"
      ],
      "metadata": {
        "id": "ApzkipMm2fjG"
      }
    },
    {
      "cell_type": "code",
      "source": [
        "# Define the Person class\n",
        "class Person:\n",
        "    def __init__(self, name, age, gender):\n",
        "        \"\"\"\n",
        "        Initialize the Person class with name, age, and gender.\n",
        "        \"\"\"\n",
        "        self.name = name\n",
        "        self.age = age\n",
        "        self.gender = gender\n",
        "\n",
        "    def __str__(self): # string representation method, returns a string that represents the object in a human-readable format.\n",
        "        \"\"\"\n",
        "        Return a string representation of the Person.\n",
        "        \"\"\"\n",
        "        return f\"Name: {self.name}, Age: {self.age}, Gender: {self.gender}\"\n",
        "\n",
        "# Define the Student class inheriting from Person\n",
        "class Student(Person):\n",
        "    def __init__(self, name, age, gender, student_id):\n",
        "        \"\"\"\n",
        "        Initialize the Student class with name, age, gender, and student_id.\n",
        "        \"\"\"\n",
        "        super().__init__(name, age, gender)  # Call the constructor of the Person class\n",
        "        self.student_id = student_id\n",
        "        self.courses = []  # Initialize an empty list for courses\n",
        "\n",
        "    def enroll_in_course(self, course):\n",
        "        \"\"\"\n",
        "        Enroll the student in a course.\n",
        "        \"\"\"\n",
        "        self.courses.append(course)\n",
        "        print(f\"{self.name} has enrolled in {course}.\")\n",
        "\n",
        "    def list_courses(self):\n",
        "        \"\"\"\n",
        "        List all courses the student is enrolled in.\n",
        "        \"\"\"\n",
        "        return self.courses\n",
        "\n",
        "# Define the Lecturer class inheriting from Person\n",
        "class Lecturer(Person):\n",
        "    def __init__(self, name, age, gender, employee_id, department):\n",
        "        \"\"\"\n",
        "        Initialize the Lecturer class with name, age, gender, employee_id, and department.\n",
        "        \"\"\"\n",
        "        super().__init__(name, age, gender)  # Call the constructor of the Person class\n",
        "        self.employee_id = employee_id\n",
        "        self.department = department\n",
        "        self.courses = []  # Initialize an empty list for courses\n",
        "\n",
        "    def assign_course(self, course):\n",
        "        \"\"\"\n",
        "        Assign a course to the lecturer.\n",
        "        \"\"\"\n",
        "        self.courses.append(course)\n",
        "        print(f\"{self.name} has been assigned to teach {course}.\")\n",
        "\n",
        "    def list_courses(self):\n",
        "        \"\"\"\n",
        "        List all courses the lecturer is assigned to.\n",
        "        \"\"\"\n",
        "        return self.courses\n",
        "\n",
        "# Test the implementation\n",
        "if __name__ == \"__main__\":\n",
        "    # Create a student object\n",
        "    student1 = Student(\"Sylvia\", 20, \"Female\", \"S12345\")\n",
        "    print(student1)\n",
        "    student1.enroll_in_course(\"Thermodynamics 101\")\n",
        "    student1.enroll_in_course(\"Fluid Dynamics 201\")\n",
        "    print(f\"{student1.name} is enrolled in: {student1.list_courses()}\")\n",
        "\n",
        "    # Create a lecturer object\n",
        "    lecturer1 = Lecturer(\"Dr. Muturi\", 45, \"Male\", \"L67890\", \"Engineering\")\n",
        "    print(lecturer1)\n",
        "    lecturer1.assign_course(\"Thermodynamics 101\")\n",
        "    lecturer1.assign_course(\"Fluid Dynamics\")\n",
        "    print(f\"{lecturer1.name} is teaching: {lecturer1.list_courses()}\")\n"
      ],
      "metadata": {
        "id": "d6daMGLh2lwg",
        "colab": {
          "base_uri": "https://localhost:8080/"
        },
        "outputId": "000ee871-1d1f-4b5d-b426-abcee94a3ed6"
      },
      "execution_count": null,
      "outputs": [
        {
          "output_type": "stream",
          "name": "stdout",
          "text": [
            "Name: Sylvia, Age: 20, Gender: Female\n",
            "Sylvia has enrolled in Thermodynamics 101.\n",
            "Sylvia has enrolled in Fluid Dynamics 201.\n",
            "Sylvia is enrolled in: ['Thermodynamics 101', 'Fluid Dynamics 201']\n",
            "Name: Dr. Muturi, Age: 45, Gender: Male\n",
            "Dr. Muturi has been assigned to teach Thermodynamics 101.\n",
            "Dr. Muturi has been assigned to teach Fluid Dynamics.\n",
            "Dr. Muturi is teaching: ['Thermodynamics 101', 'Fluid Dynamics']\n"
          ]
        }
      ]
    }
  ]
}