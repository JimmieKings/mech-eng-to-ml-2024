{
  "nbformat": 4,
  "nbformat_minor": 0,
  "metadata": {
    "colab": {
      "provenance": []
    },
    "kernelspec": {
      "name": "python3",
      "display_name": "Python 3"
    },
    "language_info": {
      "name": "python"
    }
  },
  "cells": [
    {
      "cell_type": "markdown",
      "source": [
        "**Python syntax practice**\n",
        "- calcualtor with add, subtract, multiply, divide\n",
        "- ask user for input\n",
        "- do a datatype conversion\n",
        "- use print function\n",
        "- use at least one lambda function\n",
        "- use at least one python function\n",
        "use digits for the operations inthe map.\n",
        "\n",
        "\n"
      ],
      "metadata": {
        "id": "rqXONCyERaxx"
      }
    },
    {
      "cell_type": "code",
      "execution_count": null,
      "metadata": {
        "id": "n2C8QG11Lc-d",
        "colab": {
          "base_uri": "https://localhost:8080/"
        },
        "outputId": "c1bef4dc-eebd-4a8a-da5b-83999c32c6ec"
      },
      "outputs": [
        {
          "name": "stdout",
          "output_type": "stream",
          "text": [
            "Simple Calculator\n",
            "Enter first number (or 'exit' to quit): 5\n",
            "Enter second number (or 'exit' to quit): 7\n",
            "Choose operation (+, -, *, /) or 'exit' to quit: /\n",
            "Result: 0.7142857142857143\n",
            "Enter first number (or 'exit' to quit): exit\n"
          ]
        }
      ],
      "source": [
        "# Lambda function for division with zero error handling\n",
        "divide = lambda x, y: x / y if y != 0 else \"Error! Division by zero.\"\n",
        "\n",
        "# Define functions for the other operations\n",
        "def add(x, y):\n",
        "    return x + y\n",
        "\n",
        "def subtract(x, y):\n",
        "    return x - y\n",
        "\n",
        "def multiply(x, y):\n",
        "    return x * y\n",
        "\n",
        "# Function to get a float input from the user, prompts user for input then waits\n",
        "def get_input(prompt):\n",
        "    while True: # infinite loop until valid input is provided by user\n",
        "        user_input = input(prompt)\n",
        "        if user_input.lower() == 'exit': # if user inputs this exit calculator\n",
        "            return 'exit'\n",
        "        try: # convert user input into float using try\n",
        "            return float(user_input)\n",
        "        except ValueError:\n",
        "            print(\"Invalid input! Please enter a number or 'exit' to quit.\")\n",
        "\n",
        "# Main calculator function for printing welcome message to the user\n",
        "def calculator():\n",
        "    print(\"Simple Calculator\")\n",
        "\n",
        "    while True: # initiates infinite loop till when user wants to quit\n",
        "        # Get user inputs\n",
        "        num1 = get_input(\"Enter first number (or 'exit' to quit): \")\n",
        "        if num1 == 'exit':\n",
        "            break\n",
        "        num2 = get_input(\"Enter second number (or 'exit' to quit): \")\n",
        "        if num2 == 'exit':\n",
        "            break\n",
        "        operation = input(\"Choose operation (+, -, *, /) or 'exit' to quit: \")\n",
        "\n",
        "        # Dictionary to map operation to corresponding function\n",
        "        operations = {\n",
        "            '+': add,\n",
        "            '-': subtract,\n",
        "            '*': multiply,\n",
        "            '/': divide\n",
        "        }\n",
        "\n",
        "        # Check if user wants to exit and then display Goodbye!\n",
        "        if operation.lower() == 'exit':\n",
        "            print(\"Exiting the calculator. Goodbye!\")\n",
        "            break\n",
        "\n",
        "        # Perform the operation and print the result\n",
        "        if operation in operations:\n",
        "            result = operations[operation](num1, num2)\n",
        "            print(\"Result:\", result)\n",
        "        else:\n",
        "            print(\"Invalid operation!\")\n",
        "\n",
        "# Run the calculator\n",
        "calculator()\n"
      ]
    }
  ]
}