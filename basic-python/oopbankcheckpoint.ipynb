{
  "nbformat": 4,
  "nbformat_minor": 0,
  "metadata": {
    "colab": {
      "provenance": []
    },
    "kernelspec": {
      "name": "python3",
      "display_name": "Python 3"
    },
    "language_info": {
      "name": "python"
    }
  },
  "cells": [
    {
      "cell_type": "code",
      "execution_count": null,
      "metadata": {
        "colab": {
          "base_uri": "https://localhost:8080/"
        },
        "id": "pgXIk8vAHSV2",
        "outputId": "35d0c826-0df5-4e5a-942d-05dc01dcc55e"
      },
      "outputs": [
        {
          "output_type": "stream",
          "name": "stdout",
          "text": [
            "Deposited 100.00 into account 123456789.\n",
            "Withdrew 50.00 from account 123456789.\n",
            "Current balance: 50.00\n",
            "Deposited 300.00 into account 987654321.\n",
            "Withdrew 100.00 from account 987654321.\n",
            "Account 1 - Jimmie: Balance: 200.00\n",
            "Deposited 200.00 into account 567890123.\n",
            "Withdrew 700.00 from account 567890123.\n",
            "Account 2 - Kings: Balance: 0.00\n"
          ]
        }
      ],
      "source": [
        "# OOP bank account\n",
        "\n",
        "class Account:\n",
        "    def __init__(self, account_number, account_holder, account_balance=0.0):\n",
        "        \"\"\"\n",
        "        Initialize the Account with account number, holder, and balance.\n",
        "        account_balance defaults to 0.0 if not provided.\n",
        "        \"\"\"\n",
        "        self.account_number = account_number\n",
        "        self.account_holder = account_holder\n",
        "        self.account_balance = account_balance\n",
        "\n",
        "    def deposit(self, amount):\n",
        "        \"\"\"\n",
        "        Deposit the specified amount into the account.\n",
        "        The account balance is increased by the amount.\n",
        "        \"\"\"\n",
        "        if amount > 0:\n",
        "            self.account_balance += amount\n",
        "            print(f\"Deposited {amount:.2f} into account {self.account_number}.\")\n",
        "        else:\n",
        "            print(\"Deposit amount must be positive.\")\n",
        "\n",
        "    def withdraw(self, amount):\n",
        "        \"\"\"\n",
        "        Withdraw the specified amount from the account.\n",
        "        The withdrawal is only processed if the account has sufficient balance.\n",
        "        \"\"\"\n",
        "        if amount > 0:\n",
        "            if self.account_balance >= amount:\n",
        "                self.account_balance -= amount\n",
        "                print(f\"Withdrew {amount:.2f} from account {self.account_number}.\")\n",
        "            else:\n",
        "                print(\"Insufficient balance for the withdrawal.\")\n",
        "        else:\n",
        "            print(\"Withdrawal amount must be positive.\")\n",
        "\n",
        "    def check_balance(self):\n",
        "        \"\"\"\n",
        "        Return the current account balance.\n",
        "        \"\"\"\n",
        "        return self.account_balance\n",
        "\n",
        "# Create an instance of the Account class\n",
        "my_account = Account(\"123456789\", \"Jimmi Wangui\")\n",
        "\n",
        "# Perform operations on the account\n",
        "my_account.deposit(100.0)  # Deposit money\n",
        "my_account.withdraw(50.0)  # Withdraw money\n",
        "current_balance = my_account.check_balance()  # Check balance\n",
        "\n",
        "# Print the current balance\n",
        "print(f\"Current balance: {current_balance:.2f}\")\n",
        "\n",
        "# Test the program by creating multiple instances and performing different transactions\n",
        "account_1 = Account(\"987654321\", \"Jimmie\")\n",
        "account_2 = Account(\"567890123\", \"Kings\", 500.0)\n",
        "\n",
        "# Transactions for account_1\n",
        "account_1.deposit(300.0)\n",
        "account_1.withdraw(100.0)\n",
        "print(f\"Account 1 - {account_1.account_holder}: Balance: {account_1.check_balance():.2f}\")\n",
        "\n",
        "# Transactions for account_2\n",
        "account_2.deposit(200.0)\n",
        "account_2.withdraw(700.0)  # Attempt to withdraw more than the balance\n",
        "print(f\"Account 2 - {account_2.account_holder}: Balance: {account_2.check_balance():.2f}\")\n"
      ]
    }
  ]
}